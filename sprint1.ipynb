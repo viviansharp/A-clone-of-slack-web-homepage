{
  "nbformat": 4,
  "nbformat_minor": 0,
  "metadata": {
    "colab": {
      "name": "sprint1.ipynb",
      "provenance": [],
      "authorship_tag": "ABX9TyMYcMF7jIqKchIt7viVuGtv",
      "include_colab_link": true
    },
    "kernelspec": {
      "name": "python3",
      "display_name": "Python 3"
    },
    "language_info": {
      "name": "python"
    }
  },
  "cells": [
    {
      "cell_type": "markdown",
      "metadata": {
        "id": "view-in-github",
        "colab_type": "text"
      },
      "source": [
        "<a href=\"https://colab.research.google.com/github/viviansharp/A-clone-of-slack-web-homepage/blob/master/sprint1.ipynb\" target=\"_parent\"><img src=\"https://colab.research.google.com/assets/colab-badge.svg\" alt=\"Open In Colab\"/></a>"
      ]
    },
    {
      "cell_type": "code",
      "execution_count": null,
      "metadata": {
        "id": "EmzoBweD_k51"
      },
      "outputs": [],
      "source": [
        "from random import randint                                        #import the random module\n",
        "def guessing_game():                                              #define a function guessing_game \n",
        "    secret_number = randint(0, 100)\n",
        "    try:                                                           #raise an error when invalid inputs are entered         \n",
        "            guess = input(\"Guess a number between o and 100: \")\n",
        "            guess = int(guess)\n",
        "    except ValueError:\n",
        "            print(\"Hey, {} is not a number!!\".format(guess))      #help user understand what is required\n",
        "    while secret_number != guess:\n",
        "        if guess > secret_number:\n",
        "            guess = int(input(\"Too High.Try Again: \"))\n",
        "        if guess < secret_number:\n",
        "            guess = int(input(\"Too Low.Try Again: \"))\n",
        "        if guess == secret_number:\n",
        "            print(\"Just Right! You won\")\n",
        "            break\n",
        "guessing_game()"
      ]
    }
  ]
}